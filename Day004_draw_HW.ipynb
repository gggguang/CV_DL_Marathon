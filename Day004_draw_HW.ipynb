{
 "cells": [
  {
   "cell_type": "code",
   "execution_count": null,
   "id": "2152ae96",
   "metadata": {},
   "outputs": [],
   "source": [
    "import cv2\n",
    "import time\n",
    "import matplotlib.pyplot as plt\n",
    "\n",
    "\n",
    "def compare_interpolation(size: float or int):\n",
    "    img[..., [0, 1, 2]] = img[..., [2, 1, 0]]\n",
    "    plt.figure(figsize=(15, 5))\n",
    "    # OpenCV (512, 512, 3) -> (column, row, channel)\n",
    "    drow = int(img.shape[1] * size)\n",
    "    dcol = int(img.shape[0] * size)\n",
    "    interpolation_list = [cv2.INTER_NEAREST, cv2.INTER_LINEAR, cv2.INTER_AREA, cv2.INTER_CUBIC, cv2.INTER_LANCZOS4]\n",
    "    interpolation_name = ['INTER_LANCZOS4', 'INTER_LINEAR', 'INTER_AREA', 'INTER_CUBIC', 'INTER_LANCZOS4']\n",
    "    index = 0\n",
    "    for inter_type, inter_name in zip(interpolation_list, interpolation_name):\n",
    "        start = time.time()\n",
    "        dst = cv2.resize(img, [drow, dcol], interpolation=inter_type)\n",
    "        end = time.time()\n",
    "        plt.subplot(1, 5, 1+index, title=inter_name + \" {:.4f}(s)\".format(end - start))\n",
    "        plt.imshow(dst)\n",
    "        index += 1\n",
    "    plt.show()\n",
    "\n",
    "\n",
    "if __name__ == \"__main__\":\n",
    "    img = cv2.imread(\"lena.png\", flags=cv2.IMREAD_COLOR)\n",
    "    compare_interpolation(0.5)\n",
    "    "
   ]
  }
 ],
 "metadata": {
  "kernelspec": {
   "display_name": "Python 3",
   "language": "python",
   "name": "python3"
  },
  "language_info": {
   "codemirror_mode": {
    "name": "ipython",
    "version": 3
   },
   "file_extension": ".py",
   "mimetype": "text/x-python",
   "name": "python",
   "nbconvert_exporter": "python",
   "pygments_lexer": "ipython3",
   "version": "3.8.8"
  }
 },
 "nbformat": 4,
 "nbformat_minor": 5
}
