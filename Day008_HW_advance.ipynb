{
 "cells": [
  {
   "cell_type": "code",
   "execution_count": null,
   "id": "ebc833e2",
   "metadata": {},
   "outputs": [],
   "source": [
    "import cv2\n",
    "import numpy as np\n",
    "import matplotlib.pyplot as plt\n",
    "import time\n",
    "import random\n",
    "\n",
    "def HW_advance():\n",
    "    plt.figure(figsize=(10, 5))\n",
    "    # Sobel Filter\n",
    "    img_gray = cv2.cvtColor(img, cv2.COLOR_RGB2GRAY)\n",
    "    sobel_x = cv2.Sobel(img_gray, cv2.CV_16S, dx=1, dy=0)\n",
    "    sobel_y = cv2.Sobel(img_gray, cv2.CV_16S, dx=0, dy=1)\n",
    "\n",
    "    sobel_x = cv2.convertScaleAbs(sobel_x)\n",
    "    sobel_y = cv2.convertScaleAbs(sobel_y)\n",
    "    sobel = cv2.addWeighted(sobel_x, 0.5, sobel_y, 0.5, 0)\n",
    "    plt.subplot(1, 3, 1, title=\"Sabel filter\")\n",
    "    plt.imshow(sobel, cmap=\"gray\")\n",
    "\n",
    "\n",
    "    # Sobel Filter use uint8\n",
    "    sobel_x_uint8 = cv2.Sobel(img_gray, cv2.CV_8U, dx=1, dy=0)\n",
    "    sobel_y_uint8 = cv2.Sobel(img_gray, cv2.CV_8U, dx=0, dy=1)\n",
    "\n",
    "    sobel_x_uint8 = cv2.convertScaleAbs(sobel_x_uint8)\n",
    "    sobel_y_uint8 = cv2.convertScaleAbs(sobel_y_uint8)\n",
    "    sobel_uint8 = cv2.addWeighted(sobel_x_uint8, 0.5, sobel_y_uint8, 0.5, 0)\n",
    "\n",
    "    plt.subplot(1, 3, 2, title=\"Sobel filter use uint8\")\n",
    "    plt.imshow(sobel_uint8, cmap=\"gray\")\n",
    "\n",
    "\n",
    "    # Sobel two times derivation\n",
    "    sobel_x2 = cv2.Sobel(img_gray, cv2.CV_16S, dx=2, dy=0)\n",
    "    sobel_y2 = cv2.Sobel(img_gray, cv2.CV_16S, dx=0, dy=2)\n",
    "\n",
    "    sobel_x2 = cv2.convertScaleAbs(sobel_x2)\n",
    "    sobel_y2 = cv2.convertScaleAbs(sobel_y2)\n",
    "    sobel_twotimes = cv2.addWeighted(sobel_x2, 0.5, sobel_y2, 0.5, 0)\n",
    "    plt.subplot(1, 3, 3, title=\"Sabel filter two times derivation\")\n",
    "    plt.imshow(sobel_twotimes, cmap=\"gray\")\n",
    "    plt.show()\n",
    "\n",
    "\n",
    "if __name__ == \"__main__\":\n",
    "    # Read the images\n",
    "    img = cv2.imread(\"lena.png\", flags=cv2.IMREAD_COLOR)\n",
    "    img = img[:, :, [2, 1, 0]]\n",
    "    \n",
    "    HW_advance()"
   ]
  }
 ],
 "metadata": {
  "kernelspec": {
   "display_name": "Python 3",
   "language": "python",
   "name": "python3"
  },
  "language_info": {
   "codemirror_mode": {
    "name": "ipython",
    "version": 3
   },
   "file_extension": ".py",
   "mimetype": "text/x-python",
   "name": "python",
   "nbconvert_exporter": "python",
   "pygments_lexer": "ipython3",
   "version": "3.8.8"
  }
 },
 "nbformat": 4,
 "nbformat_minor": 5
}
