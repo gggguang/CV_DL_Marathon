{
 "cells": [
  {
   "cell_type": "code",
   "execution_count": null,
   "id": "f3ece5ae",
   "metadata": {},
   "outputs": [],
   "source": [
    "from keras.models import Sequential\n",
    "from keras.layers import Convolution2D\n",
    "from keras.layers import Input, Dense\n",
    "from keras.models import Model\n",
    "\n",
    "\n",
    "##kernel size=(6,6)\n",
    "kernel_size = (6, 6)\n",
    "##kernel數量：32\n",
    "kernel = 32\n",
    "\n",
    "## Same padding、strides=(1,1)\n",
    "classifier = Sequential()\n",
    "inputs = Input(shape=(13, 13, 1))\n",
    "x = Convolution2D(filters=kernel, kernel_size=kernel_size, strides=(1, 1), padding=\"same\")(inputs)\n",
    "model = Model(inputs=inputs, outputs=x)\n",
    "model.summary()\n",
    "\n",
    "\n",
    "## Same padding、strides=(2,2)\n",
    "classifier=Sequential()\n",
    "inputs = Input(shape=(13, 13, 1))\n",
    "x = Convolution2D(filters=kernel, kernel_size=kernel_size, strides=(2, 2), padding=\"same\")(inputs)\n",
    "model = Model(inputs=inputs, outputs=x)\n",
    "model.summary()\n",
    "\n",
    "\n",
    "## Valid padding、strides=(1,1)\n",
    "classifier=Sequential()\n",
    "inputs = Input(shape=(13, 13, 1))\n",
    "x=Convolution2D(filters=kernel, kernel_size=kernel_size, strides=(1, 1), padding=\"valid\")(inputs)\n",
    "model = Model(inputs=inputs, outputs=x)\n",
    "model.summary()\n",
    "\n",
    "\n",
    "## Valid padding、strides=(2,2)\n",
    "classifier=Sequential()\n",
    "inputs = Input(shape=(13,13,1))\n",
    "x=Convolution2D(filters=kernel, kernel_size=kernel_size, strides=(2, 2), padding=\"valid\")(inputs)\n",
    "model = Model(inputs=inputs, outputs=x)\n",
    "model.summary()\n",
    "\n"
   ]
  }
 ],
 "metadata": {
  "kernelspec": {
   "display_name": "Python 3",
   "language": "python",
   "name": "python3"
  },
  "language_info": {
   "codemirror_mode": {
    "name": "ipython",
    "version": 3
   },
   "file_extension": ".py",
   "mimetype": "text/x-python",
   "name": "python",
   "nbconvert_exporter": "python",
   "pygments_lexer": "ipython3",
   "version": "3.8.8"
  }
 },
 "nbformat": 4,
 "nbformat_minor": 5
}
