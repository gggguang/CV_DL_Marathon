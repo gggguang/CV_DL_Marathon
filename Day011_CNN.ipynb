{
 "cells": [
  {
   "cell_type": "code",
   "execution_count": null,
   "id": "682d9d76",
   "metadata": {},
   "outputs": [],
   "source": [
    "from keras.models import Sequential\n",
    "from keras.layers import Convolution2D\n",
    "from keras.layers import Input, Dense\n",
    "from keras.models import Model\n",
    "\n",
    "# 輸入照片尺寸==28*28*1\n",
    "img_shape = (28, 28, 1)\n",
    "# 都用一層，288個神經元\n",
    "\n",
    "# 建造一個一層的CNN層\n",
    "classifier=Sequential()\n",
    "# Kernel size 3*3，用32張，輸入大小28*28*1\n",
    "classifier.add(Convolution2D(filters=32, kernel_size=(3, 3), input_shape=img_shape))\n",
    "# 看看model結構\n",
    "print(classifier.summary())\n",
    "\n",
    "'''\n",
    "理解輸出Total params為何==320\n",
    "Total params =  (Kernel_H * Kernel_W * channels + 1) * Kernel_numbers\n",
    "             = (3 * 3 * 1 + 1) * 32\n",
    "'''\n",
    "\n",
    "# ------------------------------------------------------------------------------\n",
    "\n",
    "\n",
    "# 建造一個一層的FC層\n",
    "classifier=Sequential()\n",
    "# 輸入為28*28*1攤平==784\n",
    "'''輸入尺寸為28*28*1'''\n",
    "inputs = Input(shape=784)\n",
    "# CNN中用了(3*3*1)*32個神經元，我們這邊也用相同神經元數量\n",
    "'''使用288個神經元'''\n",
    "x = Dense(288)(inputs)\n",
    "model = Model(inputs=inputs, outputs=x)\n",
    "# 看看model結構\n",
    "print(model.summary())\n",
    "'''\n",
    "理解輸出Total params為何==226080\n",
    "Total params = input * output + output\n",
    "             = 784 * 288 + 288\n",
    "'''\n",
    "\n",
    "\n",
    "\n",
    "\n",
    "\n",
    "\n"
   ]
  }
 ],
 "metadata": {
  "kernelspec": {
   "display_name": "Python 3",
   "language": "python",
   "name": "python3"
  },
  "language_info": {
   "codemirror_mode": {
    "name": "ipython",
    "version": 3
   },
   "file_extension": ".py",
   "mimetype": "text/x-python",
   "name": "python",
   "nbconvert_exporter": "python",
   "pygments_lexer": "ipython3",
   "version": "3.8.8"
  }
 },
 "nbformat": 4,
 "nbformat_minor": 5
}
