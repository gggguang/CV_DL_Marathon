{
 "cells": [
  {
   "cell_type": "code",
   "execution_count": null,
   "id": "fd0afa7a",
   "metadata": {},
   "outputs": [],
   "source": [
    "import cv2\n",
    "import matplotlib.pyplot as plt\n",
    "import numpy as np\n",
    "\n",
    "\n",
    "def draw():\n",
    "    img[..., [0, 1, 2]] = img[..., [2, 1, 0]]\n",
    "    plt.figure(figsize=(10, 5))\n",
    "\n",
    "    img_rec = img.copy()\n",
    "    cv2.rectangle(img_rec, (200, 180), (380, 400), (0, 255, 0), 3)\n",
    "    plt.subplot(1, 3, 1)\n",
    "    plt.imshow(img_rec)\n",
    "\n",
    "    img_line = img.copy()\n",
    "    cv2.line(img_line, (200, 180), (380, 400), (0, 255, 0), 3)\n",
    "    plt.subplot(1, 3, 2)\n",
    "    plt.imshow(img_line)\n",
    "\n",
    "    img_text = img.copy()\n",
    "    coord = (200, 180)\n",
    "    cv2.putText(img_text, str(coord), coord, fontFace=0, fontScale=0.8, color=(0, 255, 0), thickness=2)\n",
    "    plt.subplot(1, 3, 3)\n",
    "    plt.imshow(img_text)\n",
    "\n",
    "    plt.show()\n",
    "\n",
    "\n",
    "def histogram():\n",
    "    img[..., [0, 1, 2]] = img[..., [2, 1, 0]]\n",
    "    plt.figure(figsize = (8, 16))\n",
    "    for i in range(3):\n",
    "        hist = cv2.calcHist([img], [i], None, [256], [0, 256])\n",
    "        # print(hist[:, 0])\n",
    "        plt.subplot(3, 1, i + 1, title = 'channel {} histogram'.format(i))\n",
    "        plt.bar(range(0, 256), hist[:, 0])\n",
    "    plt.show()\n",
    "\n",
    "\n",
    "if __name__ == \"__main__\":\n",
    "    img = cv2.imread(\"lena.png\")\n",
    "    # draw()\n",
    "    histogram()"
   ]
  }
 ],
 "metadata": {
  "kernelspec": {
   "display_name": "Python 3",
   "language": "python",
   "name": "python3"
  },
  "language_info": {
   "codemirror_mode": {
    "name": "ipython",
    "version": 3
   },
   "file_extension": ".py",
   "mimetype": "text/x-python",
   "name": "python",
   "nbconvert_exporter": "python",
   "pygments_lexer": "ipython3",
   "version": "3.8.8"
  }
 },
 "nbformat": 4,
 "nbformat_minor": 5
}
