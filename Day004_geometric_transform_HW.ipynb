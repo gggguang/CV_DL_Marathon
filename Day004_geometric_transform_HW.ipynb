{
 "cells": [
  {
   "cell_type": "code",
   "execution_count": null,
   "id": "ce5c99f2",
   "metadata": {},
   "outputs": [],
   "source": [
    "import cv2\n",
    "import numpy as np\n",
    "import matplotlib.pyplot as plt\n",
    "\n",
    "\n",
    "def flip():\n",
    "    plt.figure(figsize=(10, 5))\n",
    "    img[..., [0, 1, 2]] = img[..., [2, 1, 0]]\n",
    "    img_vflip = img[::-1, :, :]\n",
    "    img_hflip = img[:, ::-1, :]\n",
    "    plt.subplot(1, 3, 1)\n",
    "    plt.imshow(img)\n",
    "    plt.subplot(1, 3, 2)\n",
    "    plt.imshow(img_vflip)\n",
    "    plt.subplot(1, 3, 3)\n",
    "    plt.imshow(img_hflip)\n",
    "    plt.show()\n",
    "\n",
    "\n",
    "def resize(size):\n",
    "    # OpenCV (512, 512, 3) -> (column, row, channel)\n",
    "    drow = int(img.shape[1] * size)\n",
    "    dcol = int(img.shape[0] * size)\n",
    "    dst_nearest = cv2.resize(img, [drow, dcol], interpolation=cv2.INTER_NEAREST)\n",
    "    dst_bilinear = cv2.resize(img, [drow, dcol], interpolation=cv2.INTER_LINEAR)\n",
    "    concatenate = np.hstack([dst_nearest, dst_bilinear])\n",
    "    cv2.imshow(\"Nearest interpolation / Bilinear interpolation\", concatenate)\n",
    "    k = cv2.waitKey(0)\n",
    "    if k == 27:\n",
    "        cv2.destroyAllWindows()\n",
    "\n",
    "\n",
    "def translate():\n",
    "    # x 平移 50 pixel;   y 平移 100 pixel\n",
    "    M = np.array([[1, 0, 50],\n",
    "                 [0, 1, 100]], dtype=np.float)\n",
    "    shift_img = cv2.warpAffine(img, M, (img.shape[1], img.shape[0]))\n",
    "\n",
    "    # 組合 + 顯示圖片\n",
    "    img_shift = np.hstack((img, shift_img))\n",
    "    while True:\n",
    "        cv2.imshow('shift image', img_shift)\n",
    "        k = cv2.waitKey(0)\n",
    "        if k == 27:\n",
    "            cv2.destroyAllWindows()\n",
    "            break\n",
    "\n",
    "\n",
    "if __name__ == \"__main__\":\n",
    "    img = cv2.imread(\"lena.png\")\n",
    "    # flip()\n",
    "    # resize(1.2)\n",
    "    translate()"
   ]
  }
 ],
 "metadata": {
  "kernelspec": {
   "display_name": "Python 3",
   "language": "python",
   "name": "python3"
  },
  "language_info": {
   "codemirror_mode": {
    "name": "ipython",
    "version": 3
   },
   "file_extension": ".py",
   "mimetype": "text/x-python",
   "name": "python",
   "nbconvert_exporter": "python",
   "pygments_lexer": "ipython3",
   "version": "3.8.8"
  }
 },
 "nbformat": 4,
 "nbformat_minor": 5
}
