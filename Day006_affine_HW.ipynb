{
 "cells": [
  {
   "cell_type": "code",
   "execution_count": null,
   "id": "a2b7d92a",
   "metadata": {},
   "outputs": [],
   "source": [
    "import cv2\n",
    "import numpy as np\n",
    "\n",
    "def affine_transform():\n",
    "    center = (int(img.shape[1] / 2), int(img.shape[1] / 2))\n",
    "\n",
    "    # 取得旋轉矩陣\n",
    "    M_rotate = cv2.getRotationMatrix2D(center, 45, 0.5)\n",
    "    img_rotate = img.copy()\n",
    "    img_rotate = cv2.warpAffine(img_rotate, M_rotate, (rows, cols))\n",
    "\n",
    "    # 取得平移矩陣\n",
    "    M_translate = np.array([[1, 0, 100], [0, 1, -50]], dtype=float)\n",
    "    img_output = img_rotate.copy()\n",
    "    img_output =  cv2.warpAffine(img_output, M_translate, (rows, cols))\n",
    "\n",
    "    # 組合圖片\n",
    "    concatenate = np.hstack([img, img_rotate, img_output]) \n",
    "    cv2.imshow(\"affine\", concatenate)\n",
    "    cv2.waitKey(0)\n",
    "\n",
    "\n",
    "def affine_transform_any3points():\n",
    "    # 給定要轉換的三對點\n",
    "    pt1 = np.array([[50,50], [300,100], [200,300]], dtype=np.float32)\n",
    "    pt2 = np.array([[80,80], [330,150], [300,300]], dtype=np.float32)\n",
    "\n",
    "    # 取得 affine 矩陣並做 affine 操作\n",
    "    M_affine = cv2.getAffineTransform(pt1, pt2)\n",
    "    img_affine = cv2.warpAffine(img, M_affine, (rows, cols))\n",
    "\n",
    "    # 在原圖片上標記\n",
    "    img_mark = img.copy()\n",
    "    for coord in pt1:\n",
    "        coord = tuple([int(coord[0]), int(coord[1])])\n",
    "        cv2.circle(img_mark, coord, radius=5, color=(0, 255, 0), thickness=1)\n",
    "        cv2.putText(img_mark, str(coord), coord, fontFace=0, fontScale=1, color=(0, 255, 0), thickness=1)\n",
    "\n",
    "    # 在仿射變換圖片上標記\n",
    "    img_mark_affine = img_affine.copy()\n",
    "    for coord in pt2:\n",
    "        coord = tuple([int(coord[0]), int(coord[1])])\n",
    "        cv2.circle(img_mark_affine, coord, radius=5, color=(0, 255, 0), thickness=1)\n",
    "        cv2.putText(img_mark_affine, str(coord), coord, fontFace=0, fontScale=1, color=(0, 255, 0), thickness=1)\n",
    "\n",
    "    concatenate = np.hstack([img_mark, img_mark_affine]) \n",
    "    cv2.imshow(\"affine\", concatenate)\n",
    "    cv2.waitKey(0)\n",
    "\n",
    "\n",
    "if __name__ == \"__main__\":\n",
    "    img = cv2.imread(\"lena.png\")\n",
    "    rows, cols = img.shape[:2]\n",
    "    # affine_transform()\n",
    "    affine_transform_any3points()"
   ]
  }
 ],
 "metadata": {
  "kernelspec": {
   "display_name": "Python 3",
   "language": "python",
   "name": "python3"
  },
  "language_info": {
   "codemirror_mode": {
    "name": "ipython",
    "version": 3
   },
   "file_extension": ".py",
   "mimetype": "text/x-python",
   "name": "python",
   "nbconvert_exporter": "python",
   "pygments_lexer": "ipython3",
   "version": "3.8.8"
  }
 },
 "nbformat": 4,
 "nbformat_minor": 5
}
