{
 "cells": [
  {
   "cell_type": "code",
   "execution_count": 8,
   "id": "2e580fba",
   "metadata": {},
   "outputs": [],
   "source": [
    "import cv2\n",
    "import numpy as np\n",
    "\n",
    "def show_img(img: np.ndarray):\n",
    "    cv2.imshow(\"img_window\", img)\n",
    "    cv2.waitKey(0)\n",
    "    cv2.destroyAllWindows()\n",
    "\n",
    "\n",
    "if __name__ == \"__main__\":\n",
    "    img_color = cv2.imread(\"lena.png\", flags=cv2.IMREAD_COLOR)\n",
    "    img_gray = cv2.imread(\"lena.png\", flags=cv2.IMREAD_GRAYSCALE)\n",
    "    show_img(img_color)\n",
    "    show_img(img_gray)"
   ]
  },
  {
   "cell_type": "code",
   "execution_count": null,
   "id": "c3891e4d",
   "metadata": {},
   "outputs": [],
   "source": []
  }
 ],
 "metadata": {
  "kernelspec": {
   "display_name": "Python 3",
   "language": "python",
   "name": "python3"
  },
  "language_info": {
   "codemirror_mode": {
    "name": "ipython",
    "version": 3
   },
   "file_extension": ".py",
   "mimetype": "text/x-python",
   "name": "python",
   "nbconvert_exporter": "python",
   "pygments_lexer": "ipython3",
   "version": "3.8.8"
  }
 },
 "nbformat": 4,
 "nbformat_minor": 5
}
