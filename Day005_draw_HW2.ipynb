{
 "cells": [
  {
   "cell_type": "code",
   "execution_count": null,
   "id": "09c224c3",
   "metadata": {},
   "outputs": [],
   "source": [
    "import cv2\n",
    "import numpy as np\n",
    "import matplotlib.pyplot as plt\n",
    "\n",
    "# 匯入圖片\n",
    "img = cv2.imread(\"lena.png\")\n",
    "img_hsv = cv2.cvtColor(img, cv2.COLOR_BGR2HSV)\n",
    "\n",
    "# 對明亮度做直方圖均衡處理\n",
    "HE = cv2.equalizeHist(img_hsv[..., -1])\n",
    "img_hsv[..., -1] = HE\n",
    "img = cv2.cvtColor(img_hsv, cv2.COLOR_HSV2BGR)\n",
    "\n",
    "# 水平鏡像 + 縮放處理(0.5倍)\n",
    "img[:, :, :] = img[:, ::-1, :]\n",
    "img_resize = img.copy()\n",
    "drow = int(img.shape[1] * 0.5)\n",
    "dcol = int(img.shape[0] * 0.5)\n",
    "img_resize = cv2.resize(img, dsize=[drow, dcol], interpolation=cv2.INTER_NEAREST)\n",
    "\n",
    "# 畫出人物矩形邊框\n",
    "ori_coord_p1 = (60, 40)\n",
    "ori_coord_p2 = (420, 510)\n",
    "new_coord_p1 = (int(img_resize.shape[1] / img.shape[1] * ori_coord_p1[0]), int(img_resize.shape[0] / img.shape[0] * ori_coord_p1[1]))\n",
    "new_coord_p2 = (int(img_resize.shape[1] / img.shape[1] * ori_coord_p2[0]), int(img_resize.shape[0] / img.shape[0] * ori_coord_p2[1]))\n",
    "cv2.rectangle(img_resize, new_coord_p1, new_coord_p2, color=(0, 255, 0), thickness=1)\n",
    "\n",
    "# 得到新的矩形邊框座標\n",
    "cv2.putText(img_resize, str(new_coord_p1), new_coord_p1, fontFace=0, fontScale=0.8, color=(0, 255, 0), thickness=1)\n",
    "cv2.putText(img_resize, str(new_coord_p2), new_coord_p2, fontFace=0, fontScale=0.8, color=(0, 255, 0), thickness=1)\n",
    "\n",
    "# 顯示圖片\n",
    "cv2.imshow(\"Output\", img_resize)\n",
    "k = cv2.waitKey(0)\n",
    "if k == 27:\n",
    "    cv2.destroyAllWindows()"
   ]
  }
 ],
 "metadata": {
  "kernelspec": {
   "display_name": "Python 3",
   "language": "python",
   "name": "python3"
  },
  "language_info": {
   "codemirror_mode": {
    "name": "ipython",
    "version": 3
   },
   "file_extension": ".py",
   "mimetype": "text/x-python",
   "name": "python",
   "nbconvert_exporter": "python",
   "pygments_lexer": "ipython3",
   "version": "3.8.8"
  }
 },
 "nbformat": 4,
 "nbformat_minor": 5
}
